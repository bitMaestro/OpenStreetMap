{
 "cells": [
  {
   "cell_type": "markdown",
   "metadata": {},
   "source": [
    "<br><br><center> <font size=6 color=grey> OpenStreetMap Project with MongoDB\n",
    "<center> <font size=3>[_Livermore_](https://www.openstreetmap.org/export#map=11/37.6806/-121.7728), _California_ \n",
    "<br><br>\n",
    "\n",
    "***\n",
    "<font color=00ffcc size=3>_by_:<font color=grey> Tarique Hasheem  \n",
    "\n"
   ]
  },
  {
   "cell_type": "markdown",
   "metadata": {
    "collapsed": true
   },
   "source": [
    "><font color=grey>OpenStreetMap (OSM) provides a number of options to download an XML file for any desired location.  Because OSM files can be huge and take over local resources one must be cautious in downloading in order to avoid system crashes.  Luckily OSM offer an API (Overpass API) and this option is how I’ve elected to extract the [Livermore](https://www.openstreetmap.org/export#map=11/37.6806/-121.7728) dataset for this project.   Once downloading had completed I created a sample file, <font color=red>sample2file, <font color=grey>of the origial dataset.  If our OSM dataset was not small enough for my MacBook to manage I would have used this sample file instead of the entire dataset to wrangle.\n",
    "\n",
    ">Before we dive into the project lets run the <font color=red> tags.py <font color=grey> script to extract all top level tag and count how many times they appear throughout the full dataset.\n",
    "\n",
    "                defaultdict(int,\n",
    "                    {'bounds': 1,\n",
    "                     'member': 6370,\n",
    "                     'meta': 1,\n",
    "                     'nd': 296133,\n",
    "                     'node': 257305,\n",
    "                     'note': 1,\n",
    "                     'osm': 1,\n",
    "                     'relation': 360,\n",
    "                     'tag': 108140,\n",
    "                     'way': 22110})\n",
    "\n",
    "><font color=grey>That's a good amount of data."
   ]
  },
  {
   "cell_type": "markdown",
   "metadata": {
    "collapsed": true
   },
   "source": [
    "***"
   ]
  },
  {
   "cell_type": "markdown",
   "metadata": {},
   "source": [
    "<font size=4 color=grey> Problems with our OSM DataSet"
   ]
  },
  {
   "cell_type": "markdown",
   "metadata": {
    "collapsed": true
   },
   "source": [
    "<font color=grey>When originally running our <font color=red>audit_street.py <font color=grey>script I noticed many more common names than originally anticiapted as acceptable street names.  To fix this we add the additional common names to our variable.\n",
    "<br><br>\n",
    "We also notice street name types that are abbreviated such as Ave instead of Avenue.  To correct this we’ll map the abbreviated name as key’s to its full spelling as value’s.\n",
    "<br><br>\n",
    "After running <font color=red>city_names.py <font color=grey>I noticed neighboring cities that were not capitalized and have incorrect spelling.  To correct this we map the corrections once again."
   ]
  },
  {
   "cell_type": "markdown",
   "metadata": {
    "collapsed": true
   },
   "source": [
    "***"
   ]
  },
  {
   "cell_type": "markdown",
   "metadata": {},
   "source": [
    "<font size=4 color=grey> Exploring the dataset pre-MongoDB"
   ]
  },
  {
   "cell_type": "markdown",
   "metadata": {},
   "source": [
    "<font color=grey>Before inserting our dataset into MongoDB lets check out what sorts of cuisine are available for hungry Livermore residents by running <font color=red>cuisine_types.py.\n",
    "\n",
    "                {'Booze': {'Booze'},\n",
    "                 'Greek': {'Greek'},\n",
    "                 'Hawaiian': {'Hawaiian'},\n",
    "                 'Mongolian': {'Mongolian'},\n",
    "                 'american': {'american'},\n",
    "                 'bagel': {'bagel'},\n",
    "                 'barbecue': {'barbecue'},\n",
    "                 'burger': {'burger'},\n",
    "                 'chicken': {'chicken'},\n",
    "                 'chinese': {'chinese'},\n",
    "                 'coffee': {'coffee'},\n",
    "                 'coffee_shop': {'coffee_shop'},\n",
    "                 'dim_sum': {'dim_sum'},\n",
    "                 'fine_dining': {'fine_dining'},\n",
    "                 'fish': {'fish'},\n",
    "                 'greek': {'greek'},\n",
    "                 'ice_cream': {'ice_cream'},\n",
    "                 'indian': {'indian'},\n",
    "                 'italian': {'italian'},\n",
    "                 'japanese': {'japanese'},\n",
    "                 'juice': {'juice'},\n",
    "                 'mediterranean': {'mediterranean'},\n",
    "                 'mexican': {'mexican'},\n",
    "                 'pizza': {'pizza'},\n",
    "                 'regional': {'regional'},\n",
    "                 'salad': {'salad'},\n",
    "                 'sandwich': {'sandwich'}\n",
    "                 \n",
    "<font color=grey>Sweet! Or rather not so many bakeries in town!\n"
   ]
  },
  {
   "cell_type": "markdown",
   "metadata": {},
   "source": [
    "***"
   ]
  },
  {
   "cell_type": "markdown",
   "metadata": {
    "collapsed": true
   },
   "source": [
    "<font size=4 color=grey>MongoDB"
   ]
  },
  {
   "cell_type": "code",
   "execution_count": 1,
   "metadata": {
    "collapsed": true
   },
   "outputs": [],
   "source": [
    "import pymongo\n",
    "from pymongo import MongoClient\n",
    "import pprint\n",
    "import os\n",
    "\n",
    "client = MongoClient('localhost', 27017)\n",
    "db = client.openstreetmap\n",
    "collection = db.livermore"
   ]
  },
  {
   "cell_type": "markdown",
   "metadata": {},
   "source": [
    "<font color=grey>We consolidated our scripts into one <font color=red>audit_streey.py <font color=grey>and created a json file <font color=red>livermore_ca_overpassAPI.osm.json <font color=grey>to insert into MonogoDB.\n",
    "\n",
    "<font size=3>Lets check out our file sizes:"
   ]
  },
  {
   "cell_type": "code",
   "execution_count": 2,
   "metadata": {},
   "outputs": [
    {
     "name": "stdout",
     "output_type": "stream",
     "text": [
      "\n",
      "Size of OSM file is 55.53757 MB\n",
      "\n",
      "Size of the .json file is 10.765474 MB\n"
     ]
    }
   ],
   "source": [
    "print('\\nSize of OSM file is {} MB\\n'.format(os.path.getsize('livermore_ca_overpassAPI.osm')/1.0e6))\n",
    "print('Size of the .json file is {} MB'.format(os.path.getsize('livermore_ca_overpassAPI.osm.json')/1.0e6))"
   ]
  },
  {
   "cell_type": "markdown",
   "metadata": {},
   "source": [
    "<font color=grey size=3>What are the number of documents in our collection?"
   ]
  },
  {
   "cell_type": "code",
   "execution_count": 3,
   "metadata": {},
   "outputs": [
    {
     "data": {
      "text/plain": [
       "32189"
      ]
     },
     "execution_count": 3,
     "metadata": {},
     "output_type": "execute_result"
    }
   ],
   "source": [
    "collection.find().count()"
   ]
  },
  {
   "cell_type": "markdown",
   "metadata": {},
   "source": [
    "<font color=grey size=3>Unique Users in our collection?"
   ]
  },
  {
   "cell_type": "code",
   "execution_count": 4,
   "metadata": {},
   "outputs": [
    {
     "data": {
      "text/plain": [
       "319"
      ]
     },
     "execution_count": 4,
     "metadata": {},
     "output_type": "execute_result"
    }
   ],
   "source": [
    "len(collection.distinct('created.user'))"
   ]
  },
  {
   "cell_type": "code",
   "execution_count": 12,
   "metadata": {},
   "outputs": [
    {
     "name": "stdout",
     "output_type": "stream",
     "text": [
      "{'_id': 'way', 'count': 21852}\n",
      "{'_id': 'node', 'count': 10337}\n"
     ]
    }
   ],
   "source": [
    "for document in collection.aggregate([{'$group': {'_id': '$type', 'count': {'$sum': 1}}}]):\n",
    "    pprint.pprint(document)"
   ]
  },
  {
   "cell_type": "code",
   "execution_count": null,
   "metadata": {},
   "outputs": [],
   "source": []
  },
  {
   "cell_type": "code",
   "execution_count": 11,
   "metadata": {},
   "outputs": [
    {
     "name": "stdout",
     "output_type": "stream",
     "text": [
      "{'_id': ObjectId('59b88231b109064c78bf7924'),\n",
      " 'amenity': 'ice_cream',\n",
      " 'changeset': '29206836',\n",
      " 'created': {'changeset': '29206836',\n",
      "             'timestamp': datetime.datetime(2015, 3, 2, 19, 42, 11),\n",
      "             'uid': '620288',\n",
      "             'user': 'evilc',\n",
      "             'version': '1'},\n",
      " 'id': '3380058261',\n",
      " 'pos': [37.6986729, -121.8451207],\n",
      " 'timestamp': '2015-03-02T19:42:11Z',\n",
      " 'type': 'node',\n",
      " 'uid': '620288',\n",
      " 'user': 'evilc',\n",
      " 'version': '1'}\n",
      "{'_id': ObjectId('59b88231b109064c78bf792c'),\n",
      " 'amenity': 'ice_cream',\n",
      " 'changeset': '29398283',\n",
      " 'created': {'changeset': '29398283',\n",
      "             'timestamp': datetime.datetime(2015, 3, 11, 6, 40, 22),\n",
      "             'uid': '620288',\n",
      "             'user': 'evilc',\n",
      "             'version': '1'},\n",
      " 'id': '3393407234',\n",
      " 'pos': [37.7039795, -121.8512337],\n",
      " 'timestamp': '2015-03-11T06:40:22Z',\n",
      " 'type': 'node',\n",
      " 'uid': '620288',\n",
      " 'user': 'evilc',\n",
      " 'version': '1'}\n",
      "{'_id': ObjectId('59b88232b109064c78bfadbe'),\n",
      " 'amenity': 'ice_cream',\n",
      " 'changeset': '29670948',\n",
      " 'created': {'changeset': '29670948',\n",
      "             'timestamp': datetime.datetime(2015, 3, 23, 5, 52, 24),\n",
      "             'uid': '620288',\n",
      "             'user': 'evilc',\n",
      "             'version': '2'},\n",
      " 'id': '331185277',\n",
      " 'node_refs': ['3382430429'],\n",
      " 'timestamp': '2015-03-23T05:52:24Z',\n",
      " 'type': 'way',\n",
      " 'uid': '620288',\n",
      " 'user': 'evilc',\n",
      " 'version': '2'}\n",
      "{'_id': ObjectId('59b88232b109064c78bfc068'),\n",
      " 'amenity': 'ice_cream',\n",
      " 'changeset': '36074804',\n",
      " 'created': {'changeset': '36074804',\n",
      "             'timestamp': datetime.datetime(2015, 12, 20, 22, 22, 43),\n",
      "             'uid': '87286',\n",
      "             'user': 'Aric',\n",
      "             'version': '1'},\n",
      " 'id': '386869777',\n",
      " 'node_refs': ['3902267126'],\n",
      " 'timestamp': '2015-12-20T22:22:43Z',\n",
      " 'type': 'way',\n",
      " 'uid': '87286',\n",
      " 'user': 'Aric',\n",
      " 'version': '1'}\n",
      "{'_id': ObjectId('59b88232b109064c78bfc104'),\n",
      " 'amenity': 'ice_cream',\n",
      " 'changeset': '37511026',\n",
      " 'created': {'changeset': '37511026',\n",
      "             'timestamp': datetime.datetime(2016, 2, 28, 23, 7, 32),\n",
      "             'uid': '620288',\n",
      "             'user': 'evilc',\n",
      "             'version': '3'},\n",
      " 'id': '400655234',\n",
      " 'node_refs': ['4031908945'],\n",
      " 'timestamp': '2016-02-28T23:07:32Z',\n",
      " 'type': 'way',\n",
      " 'uid': '620288',\n",
      " 'user': 'evilc',\n",
      " 'version': '3'}\n"
     ]
    }
   ],
   "source": [
    "def find_coll(key, value):\n",
    "    global collection\n",
    "    for document in collection.find({key : value}):\n",
    "        pprint.pprint(document)\n",
    "\n",
    "find_coll('amenity', 'ice_cream')"
   ]
  },
  {
   "cell_type": "code",
   "execution_count": 26,
   "metadata": {
    "collapsed": true
   },
   "outputs": [],
   "source": [
    "import folium"
   ]
  },
  {
   "cell_type": "code",
   "execution_count": 35,
   "metadata": {},
   "outputs": [
    {
     "ename": "TypeError",
     "evalue": "list indices must be integers or slices, not tuple",
     "output_type": "error",
     "traceback": [
      "\u001b[0;31m---------------------------------------------------------------------------\u001b[0m",
      "\u001b[0;31mTypeError\u001b[0m                                 Traceback (most recent call last)",
      "\u001b[0;32m<ipython-input-35-3cb4090dea30>\u001b[0m in \u001b[0;36m<module>\u001b[0;34m()\u001b[0m\n\u001b[1;32m      1\u001b[0m \u001b[0;31m# marker for high school I graduated\u001b[0m\u001b[0;34m\u001b[0m\u001b[0;34m\u001b[0m\u001b[0m\n\u001b[1;32m      2\u001b[0m \u001b[0mmap\u001b[0m \u001b[0;34m=\u001b[0m \u001b[0mfolium\u001b[0m\u001b[0;34m.\u001b[0m\u001b[0mMap\u001b[0m\u001b[0;34m(\u001b[0m\u001b[0mlocation\u001b[0m\u001b[0;34m=\u001b[0m\u001b[0;34m[\u001b[0m\u001b[0;36m37.6804\u001b[0m\u001b[0;34m,\u001b[0m \u001b[0;34m-\u001b[0m\u001b[0;36m121.7726\u001b[0m\u001b[0;34m]\u001b[0m\u001b[0;34m,\u001b[0m \u001b[0mzoom_start\u001b[0m\u001b[0;34m=\u001b[0m\u001b[0;36m13\u001b[0m\u001b[0;34m)\u001b[0m\u001b[0;34m\u001b[0m\u001b[0m\n\u001b[0;32m----> 3\u001b[0;31m \u001b[0mfolium\u001b[0m\u001b[0;34m.\u001b[0m\u001b[0mMarker\u001b[0m\u001b[0;34m(\u001b[0m\u001b[0;34m[\u001b[0m\u001b[0;34m[\u001b[0m\u001b[0;36m37.68076\u001b[0m\u001b[0;34m,\u001b[0m \u001b[0;34m-\u001b[0m\u001b[0;36m121.76134\u001b[0m\u001b[0;34m]\u001b[0m\u001b[0;34m[\u001b[0m\u001b[0;36m37.7039795\u001b[0m\u001b[0;34m,\u001b[0m \u001b[0;34m-\u001b[0m\u001b[0;36m121.8512337\u001b[0m\u001b[0;34m]\u001b[0m\u001b[0;34m]\u001b[0m\u001b[0;34m,\u001b[0m \u001b[0mpopup\u001b[0m\u001b[0;34m=\u001b[0m\u001b[0;34m'Livermore High Schoold, Class of 2000'\u001b[0m\u001b[0;34m,\u001b[0m \u001b[0micon\u001b[0m\u001b[0;34m=\u001b[0m\u001b[0mfolium\u001b[0m\u001b[0;34m.\u001b[0m\u001b[0mIcon\u001b[0m\u001b[0;34m(\u001b[0m\u001b[0micon\u001b[0m\u001b[0;34m=\u001b[0m\u001b[0;34m'info-sign'\u001b[0m\u001b[0;34m,\u001b[0m \u001b[0mcolor\u001b[0m\u001b[0;34m=\u001b[0m\u001b[0;34m'blue'\u001b[0m\u001b[0;34m)\u001b[0m\u001b[0;34m)\u001b[0m\u001b[0;34m.\u001b[0m\u001b[0madd_to\u001b[0m\u001b[0;34m(\u001b[0m\u001b[0mmap\u001b[0m\u001b[0;34m)\u001b[0m\u001b[0;34m\u001b[0m\u001b[0m\n\u001b[0m\u001b[1;32m      4\u001b[0m \u001b[0mmap\u001b[0m\u001b[0;34m\u001b[0m\u001b[0m\n",
      "\u001b[0;31mTypeError\u001b[0m: list indices must be integers or slices, not tuple"
     ]
    }
   ],
   "source": [
    "# marker for high school I graduated\n",
    "map = folium.Map(location=[37.6804, -121.7726], zoom_start=13)\n",
    "pos = [37.7039795, -121.8512337]\n",
    "folium.Marker([pos], popup='Livermore High Schoold, Class of 2000', icon=folium.Icon(icon='info-sign', color='blue')).add_to(map)\n",
    "map"
   ]
  },
  {
   "cell_type": "code",
   "execution_count": null,
   "metadata": {
    "collapsed": true
   },
   "outputs": [],
   "source": []
  },
  {
   "cell_type": "code",
   "execution_count": 24,
   "metadata": {},
   "outputs": [
    {
     "name": "stdout",
     "output_type": "stream",
     "text": [
      "{'_id': ObjectId('59b88231b109064c78bf7924'), 'type': 'node', 'id': '3380058261', 'created': {'version': '1', 'timestamp': datetime.datetime(2015, 3, 2, 19, 42, 11), 'changeset': '29206836', 'uid': '620288', 'user': 'evilc'}, 'version': '1', 'timestamp': '2015-03-02T19:42:11Z', 'changeset': '29206836', 'uid': '620288', 'user': 'evilc', 'amenity': 'ice_cream'}\n",
      "{'_id': ObjectId('59b88231b109064c78bf792c'), 'type': 'node', 'id': '3393407234', 'created': {'version': '1', 'timestamp': datetime.datetime(2015, 3, 11, 6, 40, 22), 'changeset': '29398283', 'uid': '620288', 'user': 'evilc'}, 'version': '1', 'timestamp': '2015-03-11T06:40:22Z', 'changeset': '29398283', 'uid': '620288', 'user': 'evilc', 'amenity': 'ice_cream'}\n",
      "{'_id': ObjectId('59b88232b109064c78bfadbe'), 'type': 'way', 'id': '331185277', 'created': {'version': '2', 'timestamp': datetime.datetime(2015, 3, 23, 5, 52, 24), 'changeset': '29670948', 'uid': '620288', 'user': 'evilc'}, 'version': '2', 'timestamp': '2015-03-23T05:52:24Z', 'changeset': '29670948', 'uid': '620288', 'user': 'evilc', 'amenity': 'ice_cream', 'node_refs': ['3382430429']}\n",
      "{'_id': ObjectId('59b88232b109064c78bfc068'), 'type': 'way', 'id': '386869777', 'created': {'version': '1', 'timestamp': datetime.datetime(2015, 12, 20, 22, 22, 43), 'changeset': '36074804', 'uid': '87286', 'user': 'Aric'}, 'version': '1', 'timestamp': '2015-12-20T22:22:43Z', 'changeset': '36074804', 'uid': '87286', 'user': 'Aric', 'amenity': 'ice_cream', 'node_refs': ['3902267126']}\n",
      "{'_id': ObjectId('59b88232b109064c78bfc104'), 'type': 'way', 'id': '400655234', 'created': {'version': '3', 'timestamp': datetime.datetime(2016, 2, 28, 23, 7, 32), 'changeset': '37511026', 'uid': '620288', 'user': 'evilc'}, 'version': '3', 'timestamp': '2016-02-28T23:07:32Z', 'changeset': '37511026', 'uid': '620288', 'user': 'evilc', 'amenity': 'ice_cream', 'node_refs': ['4031908945']}\n"
     ]
    }
   ],
   "source": [
    "for document in collection.find({'amenity': 'ice_cream'}, {'pos': 0}):\n",
    "    for positions in pos:\n",
    "        "
   ]
  },
  {
   "cell_type": "code",
   "execution_count": null,
   "metadata": {
    "collapsed": true
   },
   "outputs": [],
   "source": []
  },
  {
   "cell_type": "code",
   "execution_count": 34,
   "metadata": {},
   "outputs": [
    {
     "name": "stdout",
     "output_type": "stream",
     "text": [
      "{'_id': ObjectId('59b88231b109064c78bf7924'), 'pos': [37.6986729, -121.8451207]}\n",
      "{'_id': ObjectId('59b88231b109064c78bf792c'), 'pos': [37.7039795, -121.8512337]}\n",
      "{'_id': ObjectId('59b88232b109064c78bfadbe')}\n",
      "{'_id': ObjectId('59b88232b109064c78bfc068')}\n",
      "{'_id': ObjectId('59b88232b109064c78bfc104')}\n"
     ]
    }
   ],
   "source": [
    "for document in collection.find({'amenity': 'ice_cream'}, {'pos': 1}):\n",
    "    pprint.pprint(document)"
   ]
  },
  {
   "cell_type": "code",
   "execution_count": null,
   "metadata": {
    "collapsed": true
   },
   "outputs": [],
   "source": []
  },
  {
   "cell_type": "code",
   "execution_count": null,
   "metadata": {
    "collapsed": true
   },
   "outputs": [],
   "source": []
  },
  {
   "cell_type": "code",
   "execution_count": null,
   "metadata": {
    "collapsed": true
   },
   "outputs": [],
   "source": []
  },
  {
   "cell_type": "code",
   "execution_count": null,
   "metadata": {
    "collapsed": true
   },
   "outputs": [],
   "source": []
  },
  {
   "cell_type": "code",
   "execution_count": null,
   "metadata": {
    "collapsed": true
   },
   "outputs": [],
   "source": []
  },
  {
   "cell_type": "code",
   "execution_count": null,
   "metadata": {
    "collapsed": true
   },
   "outputs": [],
   "source": []
  },
  {
   "cell_type": "code",
   "execution_count": null,
   "metadata": {
    "collapsed": true
   },
   "outputs": [],
   "source": []
  },
  {
   "cell_type": "code",
   "execution_count": null,
   "metadata": {
    "collapsed": true
   },
   "outputs": [],
   "source": []
  },
  {
   "cell_type": "code",
   "execution_count": null,
   "metadata": {
    "collapsed": true
   },
   "outputs": [],
   "source": []
  },
  {
   "cell_type": "code",
   "execution_count": null,
   "metadata": {
    "collapsed": true
   },
   "outputs": [],
   "source": []
  },
  {
   "cell_type": "code",
   "execution_count": null,
   "metadata": {
    "collapsed": true
   },
   "outputs": [],
   "source": []
  },
  {
   "cell_type": "code",
   "execution_count": null,
   "metadata": {
    "collapsed": true
   },
   "outputs": [],
   "source": []
  },
  {
   "cell_type": "code",
   "execution_count": null,
   "metadata": {
    "collapsed": true
   },
   "outputs": [],
   "source": []
  },
  {
   "cell_type": "code",
   "execution_count": null,
   "metadata": {
    "collapsed": true
   },
   "outputs": [],
   "source": []
  },
  {
   "cell_type": "code",
   "execution_count": null,
   "metadata": {
    "collapsed": true
   },
   "outputs": [],
   "source": []
  },
  {
   "cell_type": "code",
   "execution_count": null,
   "metadata": {
    "collapsed": true
   },
   "outputs": [],
   "source": []
  },
  {
   "cell_type": "code",
   "execution_count": null,
   "metadata": {
    "collapsed": true
   },
   "outputs": [],
   "source": []
  },
  {
   "cell_type": "code",
   "execution_count": null,
   "metadata": {
    "collapsed": true
   },
   "outputs": [],
   "source": []
  },
  {
   "cell_type": "code",
   "execution_count": null,
   "metadata": {
    "collapsed": true
   },
   "outputs": [],
   "source": []
  }
 ],
 "metadata": {
  "kernelspec": {
   "display_name": "Python 3",
   "language": "python",
   "name": "python3"
  },
  "language_info": {
   "codemirror_mode": {
    "name": "ipython",
    "version": 3
   },
   "file_extension": ".py",
   "mimetype": "text/x-python",
   "name": "python",
   "nbconvert_exporter": "python",
   "pygments_lexer": "ipython3",
   "version": "3.6.1"
  }
 },
 "nbformat": 4,
 "nbformat_minor": 2
}
